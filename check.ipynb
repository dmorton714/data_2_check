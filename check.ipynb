{
 "cells": [
  {
   "cell_type": "markdown",
   "metadata": {},
   "source": [
    "\n",
    "To complete the first knowledge check, do the following:\n",
    "Create a GitHub repo called \"data_1_checks\". You will upload ALL knowledge checks to this repo in the future.Send that link to your mentor so they can check it when you finish the assignment.Make a .py (or .ipynb) file that contains the following (your choice of editor does not matter!) and do the following:\n",
    "Pull in data from an API. Here's a list of public APIs that don't require Auth keys, though if you have another API you want to use feel free: https://apipheny.io/free-api/\n",
    "\n",
    "+Find and print TWO descriptive statistics about your data. This can be absolutely anything, from the mean() or sum() of a column to the number of different categories, to the number of null values in a column. We just want to see two pieces of information.\n",
    "\n",
    "+Write a query in Pandas to select a particular set of your data. You can use a mask or with .query(), but we want you to pull out a subset based on any parameter you like. This could be \"show me every row where HTTPS=False\" or anything else.\n",
    "\n",
    "+Select and print the SECOND AND THIRD columns of your data frame. \n",
    "\n",
    "+Select and print the FIRST 4 rows of you data frame.\n",
    "\n",
    "Commit your changes.Push your changes to your repo and notify your mentor!\n",
    "\n",
    "This project will test your knowledge of pulling in data from an API then doing some quick manipulation and calculation using pandas.\n"
   ]
  },
  {
   "cell_type": "code",
   "execution_count": 6,
   "metadata": {},
   "outputs": [],
   "source": [
    "import requests\n",
    "import json\n",
    "import pandas as pd"
   ]
  },
  {
   "cell_type": "code",
   "execution_count": 7,
   "metadata": {},
   "outputs": [],
   "source": [
    "API = requests.get('https://datausa.io/api/data?drilldowns=Nation&measures=Population')"
   ]
  },
  {
   "cell_type": "code",
   "execution_count": 8,
   "metadata": {},
   "outputs": [],
   "source": [
    "data = API.text"
   ]
  },
  {
   "cell_type": "code",
   "execution_count": 9,
   "metadata": {},
   "outputs": [],
   "source": [
    "json = json.loads(data)"
   ]
  },
  {
   "cell_type": "code",
   "execution_count": 10,
   "metadata": {},
   "outputs": [],
   "source": [
    "df = pd.DataFrame(json[\"data\"])"
   ]
  },
  {
   "cell_type": "code",
   "execution_count": 11,
   "metadata": {},
   "outputs": [
    {
     "name": "stdout",
     "output_type": "stream",
     "text": [
      "  ID Nation         Nation  ID Year  Year  Population    Slug Nation\n",
      "0   01000US  United States     2020  2020   326569308  united-states\n",
      "1   01000US  United States     2019  2019   324697795  united-states\n",
      "2   01000US  United States     2018  2018   322903030  united-states\n",
      "3   01000US  United States     2017  2017   321004407  united-states\n",
      "4   01000US  United States     2016  2016   318558162  united-states\n",
      "5   01000US  United States     2015  2015   316515021  united-states\n",
      "6   01000US  United States     2014  2014   314107084  united-states\n",
      "7   01000US  United States     2013  2013   311536594  united-states\n"
     ]
    }
   ],
   "source": [
    "print(df)"
   ]
  },
  {
   "cell_type": "code",
   "execution_count": 19,
   "metadata": {},
   "outputs": [
    {
     "data": {
      "text/html": [
       "<div>\n",
       "<style scoped>\n",
       "    .dataframe tbody tr th:only-of-type {\n",
       "        vertical-align: middle;\n",
       "    }\n",
       "\n",
       "    .dataframe tbody tr th {\n",
       "        vertical-align: top;\n",
       "    }\n",
       "\n",
       "    .dataframe thead th {\n",
       "        text-align: right;\n",
       "    }\n",
       "</style>\n",
       "<table border=\"1\" class=\"dataframe\">\n",
       "  <thead>\n",
       "    <tr style=\"text-align: right;\">\n",
       "      <th></th>\n",
       "      <th>ID Nation</th>\n",
       "      <th>Nation</th>\n",
       "      <th>ID Year</th>\n",
       "      <th>Year</th>\n",
       "      <th>Population</th>\n",
       "      <th>Slug Nation</th>\n",
       "    </tr>\n",
       "  </thead>\n",
       "  <tbody>\n",
       "    <tr>\n",
       "      <th>0</th>\n",
       "      <td>01000US</td>\n",
       "      <td>United States</td>\n",
       "      <td>2020</td>\n",
       "      <td>2020</td>\n",
       "      <td>326569308</td>\n",
       "      <td>united-states</td>\n",
       "    </tr>\n",
       "    <tr>\n",
       "      <th>1</th>\n",
       "      <td>01000US</td>\n",
       "      <td>United States</td>\n",
       "      <td>2019</td>\n",
       "      <td>2019</td>\n",
       "      <td>324697795</td>\n",
       "      <td>united-states</td>\n",
       "    </tr>\n",
       "    <tr>\n",
       "      <th>2</th>\n",
       "      <td>01000US</td>\n",
       "      <td>United States</td>\n",
       "      <td>2018</td>\n",
       "      <td>2018</td>\n",
       "      <td>322903030</td>\n",
       "      <td>united-states</td>\n",
       "    </tr>\n",
       "    <tr>\n",
       "      <th>3</th>\n",
       "      <td>01000US</td>\n",
       "      <td>United States</td>\n",
       "      <td>2017</td>\n",
       "      <td>2017</td>\n",
       "      <td>321004407</td>\n",
       "      <td>united-states</td>\n",
       "    </tr>\n",
       "    <tr>\n",
       "      <th>4</th>\n",
       "      <td>01000US</td>\n",
       "      <td>United States</td>\n",
       "      <td>2016</td>\n",
       "      <td>2016</td>\n",
       "      <td>318558162</td>\n",
       "      <td>united-states</td>\n",
       "    </tr>\n",
       "    <tr>\n",
       "      <th>5</th>\n",
       "      <td>01000US</td>\n",
       "      <td>United States</td>\n",
       "      <td>2015</td>\n",
       "      <td>2015</td>\n",
       "      <td>316515021</td>\n",
       "      <td>united-states</td>\n",
       "    </tr>\n",
       "    <tr>\n",
       "      <th>6</th>\n",
       "      <td>01000US</td>\n",
       "      <td>United States</td>\n",
       "      <td>2014</td>\n",
       "      <td>2014</td>\n",
       "      <td>314107084</td>\n",
       "      <td>united-states</td>\n",
       "    </tr>\n",
       "    <tr>\n",
       "      <th>7</th>\n",
       "      <td>01000US</td>\n",
       "      <td>United States</td>\n",
       "      <td>2013</td>\n",
       "      <td>2013</td>\n",
       "      <td>311536594</td>\n",
       "      <td>united-states</td>\n",
       "    </tr>\n",
       "  </tbody>\n",
       "</table>\n",
       "</div>"
      ],
      "text/plain": [
       "  ID Nation         Nation  ID Year  Year  Population    Slug Nation\n",
       "0   01000US  United States     2020  2020   326569308  united-states\n",
       "1   01000US  United States     2019  2019   324697795  united-states\n",
       "2   01000US  United States     2018  2018   322903030  united-states\n",
       "3   01000US  United States     2017  2017   321004407  united-states\n",
       "4   01000US  United States     2016  2016   318558162  united-states\n",
       "5   01000US  United States     2015  2015   316515021  united-states\n",
       "6   01000US  United States     2014  2014   314107084  united-states\n",
       "7   01000US  United States     2013  2013   311536594  united-states"
      ]
     },
     "execution_count": 19,
     "metadata": {},
     "output_type": "execute_result"
    }
   ],
   "source": [
    "df.head(50)"
   ]
  },
  {
   "cell_type": "code",
   "execution_count": 35,
   "metadata": {},
   "outputs": [
    {
     "name": "stdout",
     "output_type": "stream",
     "text": [
      "The population total is : 2555891401\n",
      "The population mean is : 319486425.125\n"
     ]
    }
   ],
   "source": [
    "# total = df.groupby['Population'].sum()\n",
    "# print(total)\n",
    "\n",
    "# df.groupby(by=[\"Year\"])[\"Population\"].min()\n",
    "\n",
    "print(\"The population total is :\", df['Population'].sum())\n",
    "print(\"The population mean is :\", df['Population'].mean())"
   ]
  },
  {
   "cell_type": "code",
   "execution_count": 37,
   "metadata": {},
   "outputs": [
    {
     "name": "stdout",
     "output_type": "stream",
     "text": [
      "  ID Nation         Nation  ID Year  Year  Population    Slug Nation\n",
      "0   01000US  United States     2020  2020   326569308  united-states\n",
      "1   01000US  United States     2019  2019   324697795  united-states\n",
      "2   01000US  United States     2018  2018   322903030  united-states\n"
     ]
    }
   ],
   "source": [
    "print(df.query('Population > 321004407'))"
   ]
  },
  {
   "cell_type": "markdown",
   "metadata": {},
   "source": [
    "Select and print the SECOND AND THIRD columns of your data frame. \n",
    "Assumnig its column 2 and 3 as in counting positions 0, 1, 2, 3, 4...."
   ]
  },
  {
   "cell_type": "code",
   "execution_count": 62,
   "metadata": {},
   "outputs": [
    {
     "data": {
      "text/html": [
       "<div>\n",
       "<style scoped>\n",
       "    .dataframe tbody tr th:only-of-type {\n",
       "        vertical-align: middle;\n",
       "    }\n",
       "\n",
       "    .dataframe tbody tr th {\n",
       "        vertical-align: top;\n",
       "    }\n",
       "\n",
       "    .dataframe thead th {\n",
       "        text-align: right;\n",
       "    }\n",
       "</style>\n",
       "<table border=\"1\" class=\"dataframe\">\n",
       "  <thead>\n",
       "    <tr style=\"text-align: right;\">\n",
       "      <th></th>\n",
       "      <th>ID Year</th>\n",
       "      <th>Year</th>\n",
       "    </tr>\n",
       "  </thead>\n",
       "  <tbody>\n",
       "    <tr>\n",
       "      <th>0</th>\n",
       "      <td>2020</td>\n",
       "      <td>2020</td>\n",
       "    </tr>\n",
       "    <tr>\n",
       "      <th>1</th>\n",
       "      <td>2019</td>\n",
       "      <td>2019</td>\n",
       "    </tr>\n",
       "    <tr>\n",
       "      <th>2</th>\n",
       "      <td>2018</td>\n",
       "      <td>2018</td>\n",
       "    </tr>\n",
       "    <tr>\n",
       "      <th>3</th>\n",
       "      <td>2017</td>\n",
       "      <td>2017</td>\n",
       "    </tr>\n",
       "    <tr>\n",
       "      <th>4</th>\n",
       "      <td>2016</td>\n",
       "      <td>2016</td>\n",
       "    </tr>\n",
       "    <tr>\n",
       "      <th>5</th>\n",
       "      <td>2015</td>\n",
       "      <td>2015</td>\n",
       "    </tr>\n",
       "    <tr>\n",
       "      <th>6</th>\n",
       "      <td>2014</td>\n",
       "      <td>2014</td>\n",
       "    </tr>\n",
       "    <tr>\n",
       "      <th>7</th>\n",
       "      <td>2013</td>\n",
       "      <td>2013</td>\n",
       "    </tr>\n",
       "  </tbody>\n",
       "</table>\n",
       "</div>"
      ],
      "text/plain": [
       "   ID Year  Year\n",
       "0     2020  2020\n",
       "1     2019  2019\n",
       "2     2018  2018\n",
       "3     2017  2017\n",
       "4     2016  2016\n",
       "5     2015  2015\n",
       "6     2014  2014\n",
       "7     2013  2013"
      ]
     },
     "execution_count": 62,
     "metadata": {},
     "output_type": "execute_result"
    }
   ],
   "source": [
    "df[df.columns[2:4]]"
   ]
  },
  {
   "cell_type": "code",
   "execution_count": 77,
   "metadata": {},
   "outputs": [
    {
     "name": "stdout",
     "output_type": "stream",
     "text": [
      "  ID Nation         Nation  ID Year  Year  Population    Slug Nation\n",
      "0   01000US  United States     2020  2020   326569308  united-states\n",
      "1   01000US  United States     2019  2019   324697795  united-states\n",
      "2   01000US  United States     2018  2018   322903030  united-states\n",
      "3   01000US  United States     2017  2017   321004407  united-states\n"
     ]
    }
   ],
   "source": [
    "row = df.iloc[0:4] \n",
    "print(row)"
   ]
  },
  {
   "cell_type": "code",
   "execution_count": 74,
   "metadata": {},
   "outputs": [
    {
     "name": "stdout",
     "output_type": "stream",
     "text": [
      "  ID Nation         Nation  ID Year  Year  Population    Slug Nation\n",
      "0   01000US  United States     2020  2020   326569308  united-states\n",
      "1   01000US  United States     2019  2019   324697795  united-states\n",
      "2   01000US  United States     2018  2018   322903030  united-states\n",
      "3   01000US  United States     2017  2017   321004407  united-states\n"
     ]
    }
   ],
   "source": [
    "prows = df.loc[0:3]\n",
    "print(prows)"
   ]
  }
 ],
 "metadata": {
  "kernelspec": {
   "display_name": "Python 3.9.7 ('base')",
   "language": "python",
   "name": "python3"
  },
  "language_info": {
   "codemirror_mode": {
    "name": "ipython",
    "version": 3
   },
   "file_extension": ".py",
   "mimetype": "text/x-python",
   "name": "python",
   "nbconvert_exporter": "python",
   "pygments_lexer": "ipython3",
   "version": "3.9.7"
  },
  "orig_nbformat": 4,
  "vscode": {
   "interpreter": {
    "hash": "40d3a090f54c6569ab1632332b64b2c03c39dcf918b08424e98f38b5ae0af88f"
   }
  }
 },
 "nbformat": 4,
 "nbformat_minor": 2
}
