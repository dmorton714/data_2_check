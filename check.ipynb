{
 "cells": [
  {
   "cell_type": "markdown",
   "metadata": {},
   "source": [
    "\n",
    "To complete the first knowledge check, do the following:\n",
    "Create a GitHub repo called \"data_1_checks\". You will upload ALL knowledge checks to this repo in the future.Send that link to your mentor so they can check it when you finish the assignment.Make a .py (or .ipynb) file that contains the following (your choice of editor does not matter!) and do the following:\n",
    "Pull in data from an API. Here's a list of public APIs that don't require Auth keys, though if you have another API you want to use feel free: https://apipheny.io/free-api/\n",
    "Find and print TWO descriptive statistics about your data. This can be absolutely anything, from the mean() or sum() of a column to the number of different categories, to the number of null values in a column. We just want to see two pieces of information.\n",
    "Write a query in Pandas to select a particular set of your data. You can use a mask or with .query(), but we want you to pull out a subset based on any parameter you like. This could be \"show me every row where HTTPS=False\" or anything else.\n",
    "Select and print the SECOND AND THIRD columns of your data frame.\n",
    "Select and print the FIRST 4 rows of you data frame.\n",
    "Commit your changes.Push your changes to your repo and notify your mentor!\n",
    "\n",
    "This project will test your knowledge of pulling in data from an API then doing some quick manipulation and calculation using pandas.\n"
   ]
  },
  {
   "cell_type": "code",
   "execution_count": 105,
   "metadata": {},
   "outputs": [],
   "source": [
    "import requests\n",
    "import json\n",
    "import pandas as pd"
   ]
  },
  {
   "cell_type": "code",
   "execution_count": 106,
   "metadata": {},
   "outputs": [],
   "source": [
    "API = requests.get('https://datausa.io/api/data?drilldowns=Nation&measures=Population')"
   ]
  },
  {
   "cell_type": "code",
   "execution_count": 110,
   "metadata": {},
   "outputs": [],
   "source": [
    "data = API.text"
   ]
  },
  {
   "cell_type": "code",
   "execution_count": 112,
   "metadata": {},
   "outputs": [],
   "source": [
    "json = json.loads(data)"
   ]
  },
  {
   "cell_type": "code",
   "execution_count": 103,
   "metadata": {},
   "outputs": [],
   "source": [
    "df = pd.DataFrame(json[\"data\"])"
   ]
  },
  {
   "cell_type": "code",
   "execution_count": 113,
   "metadata": {},
   "outputs": [
    {
     "name": "stdout",
     "output_type": "stream",
     "text": [
      "  ID Nation         Nation  ID Year  Year  Population    Slug Nation\n",
      "0   01000US  United States     2020  2020   326569308  united-states\n",
      "1   01000US  United States     2019  2019   324697795  united-states\n",
      "2   01000US  United States     2018  2018   322903030  united-states\n",
      "3   01000US  United States     2017  2017   321004407  united-states\n",
      "4   01000US  United States     2016  2016   318558162  united-states\n",
      "5   01000US  United States     2015  2015   316515021  united-states\n",
      "6   01000US  United States     2014  2014   314107084  united-states\n",
      "7   01000US  United States     2013  2013   311536594  united-states\n"
     ]
    }
   ],
   "source": [
    "print(df)"
   ]
  },
  {
   "cell_type": "code",
   "execution_count": null,
   "metadata": {},
   "outputs": [],
   "source": []
  }
 ],
 "metadata": {
  "kernelspec": {
   "display_name": "Python 3.9.7 ('base')",
   "language": "python",
   "name": "python3"
  },
  "language_info": {
   "codemirror_mode": {
    "name": "ipython",
    "version": 3
   },
   "file_extension": ".py",
   "mimetype": "text/x-python",
   "name": "python",
   "nbconvert_exporter": "python",
   "pygments_lexer": "ipython3",
   "version": "3.9.7"
  },
  "orig_nbformat": 4,
  "vscode": {
   "interpreter": {
    "hash": "40d3a090f54c6569ab1632332b64b2c03c39dcf918b08424e98f38b5ae0af88f"
   }
  }
 },
 "nbformat": 4,
 "nbformat_minor": 2
}
