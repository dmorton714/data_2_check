{
 "cells": [
  {
   "cell_type": "markdown",
   "metadata": {},
   "source": [
    "\n",
    "To complete the first knowledge check, do the following:\n",
    "Create a GitHub repo called \"data_1_checks\". You will upload ALL knowledge checks to this repo in the future.Send that link to your mentor so they can check it when you finish the assignment.Make a .py (or .ipynb) file that contains the following (your choice of editor does not matter!) and do the following:\n",
    "Pull in data from an API. Here's a list of public APIs that don't require Auth keys, though if you have another API you want to use feel free: https://apipheny.io/free-api/\n",
    "Find and print TWO descriptive statistics about your data. This can be absolutely anything, from the mean() or sum() of a column to the number of different categories, to the number of null values in a column. We just want to see two pieces of information.\n",
    "Write a query in Pandas to select a particular set of your data. You can use a mask or with .query(), but we want you to pull out a subset based on any parameter you like. This could be \"show me every row where HTTPS=False\" or anything else.\n",
    "Select and print the SECOND AND THIRD columns of your data frame.\n",
    "Select and print the FIRST 4 rows of you data frame.\n",
    "Commit your changes.Push your changes to your repo and notify your mentor!\n",
    "\n",
    "This project will test your knowledge of pulling in data from an API then doing some quick manipulation and calculation using pandas.\n"
   ]
  },
  {
   "cell_type": "code",
   "execution_count": null,
   "metadata": {},
   "outputs": [],
   "source": []
  }
 ],
 "metadata": {
  "language_info": {
   "name": "python"
  },
  "orig_nbformat": 4
 },
 "nbformat": 4,
 "nbformat_minor": 2
}
